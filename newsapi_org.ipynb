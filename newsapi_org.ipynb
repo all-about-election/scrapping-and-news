{
 "cells": [
  {
   "cell_type": "code",
   "execution_count": 15,
   "id": "6e3284be-317b-4a4f-88e2-39115e635479",
   "metadata": {},
   "outputs": [],
   "source": [
    "api_key = \"837151a183aa489284076be8dd1445bd\""
   ]
  },
  {
   "cell_type": "code",
   "execution_count": 2,
   "id": "ae5b9b61-a6e4-4279-b7ac-3a988b66a4c7",
   "metadata": {},
   "outputs": [
    {
     "name": "stdout",
     "output_type": "stream",
     "text": [
      "Title: Sonos announces ‘breakthrough’ Arc Ultra soundbar and Sub 4\n",
      "Source: The Verge\n",
      "Description: The new $999 Sonos Arc Ultra offers even more immersive and more powerful audio than the original Arc thanks to the inclusion of the company’s Sound Motion technology.\n",
      "URL: https://www.theverge.com/2024/10/15/24270677/sonos-arc-ultra-soundbar-sub-4-announced\n",
      "\n",
      "\n",
      "Title: Back to Its Prime Day Price (59% Off), The Roborock Q7 Max+ is so Subtle That You’ll Hardly Notice it’s Working\n",
      "Source: Gizmodo.com\n",
      "Description: Combining advanced technology with exceptional convenience.\n",
      "URL: https://gizmodo.com/back-to-its-prime-day-price-59-off-the-roborock-q7-max-is-so-subtle-that-youll-hardly-notice-its-working-2000511818\n",
      "\n",
      "\n",
      "Title: It Seemed Like an AI Crime-Fighting Super Tool. Then Defense Attorneys Started Asking Questions\n",
      "Source: Wired\n",
      "Description: Global Intelligence claims its Cybercheck technology can help cops find key evidence to nail a case. But a WIRED investigation reveals the smoking gun often appears far less solid.\n",
      "URL: https://www.wired.com/story/cybercheck-crime-reports-prosecutions/\n",
      "\n",
      "\n",
      "Title: First Vacuum in Space: Where Roborock’s Vision Meets the Cosmos\n",
      "Source: Gizmodo.com\n",
      "Description: Sending a vacuum into space not only showcases Roborock's innovative spirit but also redefines the boundaries of what home technology can achieve.\n",
      "URL: https://gizmodo.com/first-vacuum-in-space-where-roborocks-vision-meets-the-cosmos-2000510102\n",
      "\n",
      "\n",
      "Title: From Dust to the Stars: Roborock’s Vacuum Journey “Beyond Limits” with the S8 MaxV Ultra\n",
      "Source: Gizmodo.com\n",
      "Description: Roborock's recent launch of the S8 MaxV Ultra vacuum into Near Space showcases the durability and innovation of its technology in extreme conditions.\n",
      "URL: https://gizmodo.com/from-dust-to-the-stars-roborocks-vacuum-journey-beyond-limits-with-the-s8-maxv-ultra-2000504850\n",
      "\n",
      "\n",
      "Title: Unbelievable, This “$1,000” Portable Printer Is Now Under $100 for Amazon Prime Day\n",
      "Source: Gizmodo.com\n",
      "Description: No need to surprise, it's a prime day week. The 90% off portable printer uses thermal printing technology instead of ink or toner.\n",
      "URL: https://gizmodo.com/unbelievable-this-1000-portable-printer-is-now-under-100-for-amazon-prime-day-2000508592\n",
      "\n",
      "\n",
      "Title: The Crusade to Replace Passwords With Passkeys Just Got More Fuel\n",
      "Source: Gizmodo.com\n",
      "Description: The FIDO Alliance released an online resource to explain why passkey technology is superior to passwords and how businesses can adopt it.\n",
      "URL: https://gizmodo.com/an-industry-group-wants-you-to-replace-your-passwords-with-passkeys-2000512254\n",
      "\n",
      "\n",
      "Title: 'We took on Google and they were forced to pay out £2bn'\n",
      "Source: BBC News\n",
      "Description: Shivaun Raff and her husband, Adam, describe their long court battle with technology giant Google.\n",
      "URL: https://www.bbc.com/news/articles/cjr431lr72jo\n",
      "\n",
      "\n",
      "Title: Musk promises self-driving Tesla taxis, but are they safe?\n",
      "Source: BBC News\n",
      "Description: BBC Tech Correspondent Lily Jamali analyses the 'robocabs' and if their technology is up to par.\n",
      "URL: https://www.bbc.com/news/videos/c20p2gp4npeo\n",
      "\n",
      "\n",
      "Title: Formula E’s Race to Get the Whole World Electrified\n",
      "Source: Wired\n",
      "Description: Since launching in 2014, the world’s premier EV racing series has made huge technological leaps and gained hundreds of millions of fans. But CEO Jeff Dodds won’t rest until every new car is electric.\n",
      "URL: https://www.wired.com/story/wired-energy-tech-summit-jeff-dodds-formula-e/\n",
      "\n",
      "\n"
     ]
    }
   ],
   "source": [
    "import requests\n",
    "\n",
    "# Replace 'your_api_key' with your actual News API key\n",
    "\n",
    "\n",
    "def fetch_news(query, language='en', page_size=10):\n",
    "    url = f'https://newsapi.org/v2/everything?q={query}&language={language}&pageSize={page_size}&apiKey={api_key}'\n",
    "    response = requests.get(url)\n",
    "    \n",
    "    if response.status_code == 200:\n",
    "        articles = response.json().get('articles', [])\n",
    "        for article in articles:\n",
    "            print(f\"Title: {article['title']}\")\n",
    "            print(f\"Source: {article['source']['name']}\")\n",
    "            print(f\"Description: {article['description']}\")\n",
    "            print(f\"URL: {article['url']}\")\n",
    "            print(\"\\n\")\n",
    "    else:\n",
    "        print(\"Error:\", response.status_code, response.json())\n",
    "\n",
    "# Example usage\n",
    "fetch_news(\"technology\")\n"
   ]
  },
  {
   "cell_type": "code",
   "execution_count": 3,
   "id": "94bd5c6d-f2d3-447c-a018-bef20161bc88",
   "metadata": {},
   "outputs": [
    {
     "name": "stdout",
     "output_type": "stream",
     "text": [
      "Title: Gadkari Proposes AI for Road Safety, But Past Trials Raise Concerns\n",
      "Source: MediaNama.com\n",
      "Fetching full article content...\n",
      "Content: MEDIANAMA Technology and policy in India Nitin Gadkari, Minister of Road Transport and Highways proposed the need to improve road safety through the implementation of Artificial Intelligence (AI). He made this proposal during his address at the 12th Edition of the Traffic InfraTech Expo. According to the press release, India experiences around 5 lakh accidents each year. Many of these fatalities occur among individuals aged 18 to 36. Additionally, Gadkari noted that road accidents cause an estimated economic loss of 3% of the country’s GDP.  To tackle this issue, Gadkari expressed interest in collaborating with Indian startups to integrate advanced engineering solutions and promote the adoption of AI in road safety initiatives.  He also announced the government’s decision to appoint experts from the private sector to collaborate in developing technological solutions. Union Minister Nitin Gadkari launched the “iRASTE” project, an AI-powered initiative, on a pilot basis, aimed at reducing road accidents by 50% in Nagpur, Maharashtra. iRASTE focuses on vehicle safety, mobility analysis, and road infrastructure safety to move towards a “Vision Zero” accident scenario, reported India Today. The initiative will equip municipal vehicles with collision avoidance technology, potentially reducing accidents and near misses by up to 60%. It will conduct studies to recommend engineering fixes for accident-prone areas (black spots). Moreover, an AI system will monitor road infrastructure continuously. The Safe Kerala Project is a road safety initiative in Kerala that aims to reduce traffic violations and road accidents. The project uses 726 AI cameras to detect traffic violations. The cameras analyze videos and images to enforce penalties. These cameras mainly identify traffic violations, including riding a two-wheeler without a helmet, not wearing a seatbelt, exceeding the passenger limit on two-wheelers, using mobile phones while driving, and running red lights.  In June 2023, officials implemented AI cameras. Reportedly, within the first 12 hours of operation, the cameras recorded 38,520 violations. The first month’s results were promising, with AI cameras reporting over 2 million traffic violations and authorities issuing 128,740 challans. However, several cases emerged of AI cameras wrongly identifying traffic violations.  For instance, a biker received a challan for overspeeding and the speed mentioned was 1240 km/h. In other instances, AI cameras penalised drivers for not wearing seat belts because they couldn’t detect them due to their beards or dark clothing. The Kerala govt entered into a partnership with Keltron, a Public Sector Undertaking (PSU) to implement the AI camera system.  However, The Kerala State Electronics Development Corporation (Keltron) is facing scrutiny due to allegations of overpricing its AI surveillance project for roads in Kerala and subcontracting the work to unqualified private entities.  From the 726 AI cameras installed across the state, fines collected over the course of a year amounted to Rs. 365 crore, reported in May this year.   In April this year, reports indicated that Keltron had halted the issuance of challans. According to the contract with the government, Keltron had to issue 25 lakh fine challans for one year. However, they ceased issuing challans after traffic violations surpassed 50 lakhs. Despite the halt in issuing challans, the AI cameras continue to operate throughout the state. This year, Bengaluru was reported as the most congested city in India by TomTom Traffic Index. It reported a congestion level of 63% in Bengaluru and the average citizen lost 132 hrs a year due to traffic. Subsequently, Bangalore police brought in AI systems to ease traffic congestion and manage traffic violations.  However, in March this year, it was reported that AI traffic cameras failed the accuracy test. The camera installed under the Intelligent Traffic Management System (ITMS) had detected only a 75% to 80% accuracy in catching non-helmet rule violations. A realisation that prompted the Bengaluru Traffic police to manually recheck all violations to weed out the errors flagged by the system.  Both Kerala and Karnataka’s instances highlight the limitations of automated enforcement. Despite this, many states have started to integrate AI into their traffic management systems.  Currently, ITMS monitors more than 7,500 traffic lanes.  Read More:  Businesses will now face penalties for fake reviews and inflated social media presence through bots followers or reviews. The VC Fund will allocate Rs 10-30 crore to growth stage space startups and  Rs 30-60 crore to late-growth stage startups.  MediaNama is the premier source of information and analysis on Technology Policy in India. More about MediaNama, and contact information, here. © 2024 Mixed Bag Media Pvt. Ltd. \n",
      "\n"
     ]
    }
   ],
   "source": [
    "from bs4 import BeautifulSoup\n",
    "import requests\n",
    "\n",
    "def fetch_article_content(url):\n",
    "    response = requests.get(url)\n",
    "    if response.status_code == 200:\n",
    "        soup = BeautifulSoup(response.content, 'html.parser')\n",
    "        # Example selector; adjust based on website structure\n",
    "        paragraphs = soup.find_all('p')\n",
    "        content = ' '.join([para.get_text() for para in paragraphs])\n",
    "        return content\n",
    "    else:\n",
    "        return \"Could not retrieve content.\"\n",
    "\n",
    "def fetch_news(query, language='en', page_size=1):\n",
    "    url = f'https://newsapi.org/v2/everything?q={query}&language={language}&pageSize={page_size}&apiKey={api_key}'\n",
    "    response = requests.get(url)\n",
    "    \n",
    "    if response.status_code == 200:\n",
    "        articles = response.json().get('articles', [])\n",
    "        for article in articles:\n",
    "            print(f\"Title: {article['title']}\")\n",
    "            print(f\"Source: {article['source']['name']}\")\n",
    "            print(\"Fetching full article content...\")\n",
    "            content = fetch_article_content(article['url'])\n",
    "            print(f\"Content: {content}\\n\")\n",
    "    else:\n",
    "        print(\"Error:\", response.status_code, response.json())\n",
    "\n",
    "# Example usage\n",
    "fetch_news(\"Nitin Gadkari\")\n"
   ]
  },
  {
   "cell_type": "markdown",
   "id": "4d1ca140-e778-42e4-b015-6aeb41d7c0e2",
   "metadata": {},
   "source": [
    "# Fetch article for last 30 mins"
   ]
  },
  {
   "cell_type": "code",
   "execution_count": 9,
   "id": "7531e332-d0a5-4c9b-90fc-5c0922a62222",
   "metadata": {},
   "outputs": [],
   "source": [
    "# from bs4 import BeautifulSoup\n",
    "# import requests\n",
    "# from datetime import datetime, timedelta\n",
    "\n",
    "# def fetch_recent_articles(query, language='en', page_size=5, timeout=50):\n",
    "#     url = f'https://newsapi.org/v2/everything?q={query}&language={language}&pageSize={page_size}&apiKey={api_key}'\n",
    "#     response = requests.get(url, timeout=timeout)\n",
    "\n",
    "#     if response.status_code == 200:\n",
    "#         articles = response.json().get('articles', [])\n",
    "#         recent_articles = []\n",
    "\n",
    "#         # Current time and 30-minute threshold\n",
    "#         now = datetime.utcnow()\n",
    "#         time_threshold = now - timedelta(minutes=300)\n",
    "\n",
    "#         for article in articles:\n",
    "#             # Parse the publication time\n",
    "#             published_time = datetime.strptime(article['publishedAt'], '%Y-%m-%dT%H:%M:%SZ')\n",
    "            \n",
    "#             if published_time >= time_threshold:\n",
    "#                 # Collect articles published within the last 30 minutes\n",
    "#                 content = fetch_article_content(article['url'], timeout)\n",
    "#                 recent_articles.append({\n",
    "#                     'title': article['title'],\n",
    "#                     'source': article['source']['name'],\n",
    "#                     'publishedAt': article['publishedAt'],\n",
    "#                     'content': content\n",
    "#                 })\n",
    "\n",
    "#         return recent_articles\n",
    "#     else:\n",
    "#         print(\"Error:\", response.status_code, response.json())\n",
    "#         return []\n",
    "\n",
    "# def fetch_article_content(url, timeout=50):\n",
    "#     try:\n",
    "#         response = requests.get(url, timeout=timeout)\n",
    "#         if response.status_code == 200:\n",
    "#             soup = BeautifulSoup(response.content, 'html.parser')\n",
    "#             paragraphs = soup.find_all('p')\n",
    "#             content = ' '.join([para.get_text() for para in paragraphs])\n",
    "#             return content\n",
    "#         else:\n",
    "#             return \"Content not available\"\n",
    "#     except requests.Timeout:\n",
    "#         return \"Request timed out\"\n",
    "    \n",
    "# # Example usage\n",
    "# recent_articles = fetch_recent_articles(\"Donald Trump\")\n",
    "# for article in recent_articles:\n",
    "#     print(f\"Title: {article['title']}\")\n",
    "#     print(f\"Source: {article['source']}\")\n",
    "#     print(f\"Published At: {article['publishedAt']}\")\n",
    "#     print(f\"Content: {article['content']}\\n\")\n"
   ]
  },
  {
   "cell_type": "code",
   "execution_count": 1,
   "id": "34755231-54a0-4873-a133-6a0897f9f680",
   "metadata": {
    "scrolled": true
   },
   "outputs": [
    {
     "name": "stdout",
     "output_type": "stream",
     "text": [
      "Requirement already satisfied: newsapi-python in /home/suprit/globalion/webscrapping/venv/lib/python3.12/site-packages (0.2.7)\n",
      "Requirement already satisfied: requests<3.0.0 in /home/suprit/globalion/webscrapping/venv/lib/python3.12/site-packages (from newsapi-python) (2.32.3)\n",
      "Requirement already satisfied: charset-normalizer<4,>=2 in /home/suprit/globalion/webscrapping/venv/lib/python3.12/site-packages (from requests<3.0.0->newsapi-python) (3.4.0)\n",
      "Requirement already satisfied: idna<4,>=2.5 in /home/suprit/globalion/webscrapping/venv/lib/python3.12/site-packages (from requests<3.0.0->newsapi-python) (3.10)\n",
      "Requirement already satisfied: urllib3<3,>=1.21.1 in /home/suprit/globalion/webscrapping/venv/lib/python3.12/site-packages (from requests<3.0.0->newsapi-python) (2.2.3)\n",
      "Requirement already satisfied: certifi>=2017.4.17 in /home/suprit/globalion/webscrapping/venv/lib/python3.12/site-packages (from requests<3.0.0->newsapi-python) (2024.8.30)\n"
     ]
    }
   ],
   "source": [
    "!pip install newsapi-python"
   ]
  },
  {
   "cell_type": "code",
   "execution_count": 6,
   "id": "bb44bfe8-2d1c-4065-adc6-f59d53daabbe",
   "metadata": {},
   "outputs": [],
   "source": [
    "from newsapi import NewsApiClient"
   ]
  },
  {
   "cell_type": "code",
   "execution_count": 8,
   "id": "29487c24-266a-449b-ad32-868ada0759e1",
   "metadata": {},
   "outputs": [],
   "source": [
    "all_articles = newsapi.get_everything(q='bitcoin',\n",
    "                                      sources='bbc-news,the-verge',\n",
    "                                      domains='bbc.co.uk,techcrunch.com',\n",
    "                                      from_param='2024-10-01',\n",
    "                                      to='2024-10-25',\n",
    "                                      language='en',\n",
    "                                      sort_by='relevancy',\n",
    "                                      page=2)\n"
   ]
  },
  {
   "cell_type": "code",
   "execution_count": 9,
   "id": "6a10828c-7322-4f58-828d-7229040682d9",
   "metadata": {},
   "outputs": [
    {
     "data": {
      "text/plain": [
       "{'status': 'ok', 'totalResults': 6, 'articles': []}"
      ]
     },
     "execution_count": 9,
     "metadata": {},
     "output_type": "execute_result"
    }
   ],
   "source": [
    "all_articles"
   ]
  },
  {
   "cell_type": "code",
   "execution_count": 11,
   "id": "d3eb3f4e-5b62-43dd-9684-e5b3a3be851e",
   "metadata": {},
   "outputs": [],
   "source": [
    "\n",
    "all_articles = newsapi.get_everything(\n",
    "    q='Nitin Gadkari',\n",
    "    # sources='bbc-news,the-verge',\n",
    "    # domains='bbc.co.uk,techcrunch.com',\n",
    "    from_param='2024-10-01',\n",
    "    to='2024-10-25',\n",
    "    language='en',\n",
    "    sort_by='relevancy',\n",
    "    page=5\n",
    ")\n",
    "\n",
    "# Display all information from each article\n",
    "for article in all_articles['articles']:\n",
    "    print(\"Article Details:\")\n",
    "    for key, value in article.items():\n",
    "        print(f\"{key}: {value}\")\n",
    "    print(\"\\n\" + \"=\"*50 + \"\\n\")  # Separator for each article\n"
   ]
  },
  {
   "cell_type": "code",
   "execution_count": 13,
   "id": "da697990-1d78-4b72-8fcc-2b012a6547d2",
   "metadata": {},
   "outputs": [
    {
     "name": "stdout",
     "output_type": "stream",
     "text": [
      "Title: 'No need for politics on this': BJP's Mukhtar Abbas Naqvi criticises opposition for politicisation of Baba Siddique's death\n",
      "Source: The Times of India\n",
      "Fetching full article content...\n",
      "Content: 10 safest countries if World War III breaks out ​9 healthy reasons to eat soaked chia seeds everyday​ How to grow Mulberries in the home garden or balcony 9 reasons to eat banana daily in the morning How to make Chili Chicken Fried Rice at home​ How to make under 15 minutes Egg Fried Rice using leftover rice 10 of the Europe's newest UNESCO World Heritage Sites Imli benefits: 8 benefits of consuming nature’s sour candy tamarind 10 healthy snacks to prepare for hosting a Diwali party Sobhita-Chaitanya's wedding festivities begin: Sobhita Dhulipala shares pictures from Haldi ceremony\n",
      "\n",
      "Title: Maharashtra election: Devendra Fadnavis files nomination from Nagpur West constituency\n",
      "Source: The Times of India\n",
      "Fetching full article content...\n",
      "Content: Office Productivity Advanced Excel Course - Financial Calculations & Excel Made Easy By - Anirudh Saraf, Founder- Saraf A & Associates, Chartered Accountant Web Development Java 21 Essentials for Beginners: Build Strong Programming Foundations By - Metla Sudha Sekhar, IT Specialist and Developer Web Development JavaScript Essentials: Unlock AI-Driven Insights with ChatGPT By - Metla Sudha Sekhar, IT Specialist and Developer Web Development A Comprehensive ASP.NET Core MVC 6 Project Guide for 2024 By - Metla Sudha Sekhar, IT Specialist and Developer Artificial Intelligence(AI) AI for Everyone: Understanding and Applying the Basics on Artificial Intelligence By - Ritesh Vajariya, Generative AI Expert Marketing Modern Marketing Masterclass by Seth Godin By - Seth Godin, Former dot com Business Executive and Best Selling Author Marketing Future of Marketing & Branding Masterclass By - Dr. David Aaker, Professor Emeritus at the Haas School of Business, UC Berkeley, Author | Speaker | Thought Leader | Branding Consultant Strategy ESG and Business Sustainability Strategy By - Vipul Arora, Partner, ESG & Climate Solutions at Sattva Consulting Author I Speaker I Thought Leader Finance A2Z Of Money By - elearnmarkets, Financial Education by StockEdge Finance Financial Literacy i.e Lets Crack the Billionaire Code By - CA Rahul Gupta, CA with 10+ years of experience and Accounting Educator Artificial Intelligence(AI) Master in Python Language Quickly Using the ChatGPT Open AI By - Metla Sudha Sekhar, IT Specialist and Developer Web Development Master RESTful APIs with Python and Django REST Framework: Web API Development By - Metla Sudha Sekhar, IT Specialist and Developer Web Development C++ Fundamentals for Absolute Beginners By - Metla Sudha Sekhar, IT Specialist and Developer Artificial Intelligence(AI) ChatGPT Mastery from Zero to Hero: The Complete AI Course By - Metla Sudha Sekhar, IT Specialist and Developer Artificial Intelligence(AI) AI-Powered Python Mastery with Tabnine: Boost Your Coding Skills By - Metla Sudha Sekhar, IT Specialist and Developer Web Development Mastering Full Stack Development: From Frontend to Backend Excellence By - Metla Sudha Sekhar, IT Specialist and Developer Artificial Intelligence(AI) Java Programming with ChatGPT: Learn using Generative AI By - Metla Sudha Sekhar, IT Specialist and Developer Office Productivity Mastering Google Sheets: Unleash the Power of Excel and Advance Analysis By - Metla Sudha Sekhar, IT Specialist and Developer Data Science SQL for Data Science along with Data Analytics and Data Visualization By - Metla Sudha Sekhar, IT Specialist and Developer Artificial Intelligence(AI) AI and Analytics based Business Strategy By - Tanusree De, Managing Director- Accenture Technology Lead, Trustworthy AI Center of Excellence: ATCI (Catch all the Business News, Breaking News, Budget 2024 Events and Latest News Updates on The Economic Times.) Subscribe to The Economic Times Prime and read the ET ePaper online. (Catch all the Business News, Breaking News, Budget 2024 Events and Latest News Updates on The Economic Times.) Subscribe to The Economic Times Prime and read the ET ePaper online.  Warehousing is attracting top dollar, but this one factor is hurting developers, investors 10 multicap funds that have returned nearly 50% in just a year The Achilles’ heel slowing Infosys, and Salil Parekh’s turnaround drive Why a China bull run can trigger a broader emerging markets rally Did Rankas get an easy exit from Modern Syntex dues despite personal guarantee? As Taleb sees ‘Black Swan’ for dollar, these 3 threats can shatter global economy Tel Aviv Terror Attack: Truck rams into bus stop near Mossad HQ 'Peace can be established in Bengal only when....': Amit Shah Maha polls: 'No place for sacrifice in politics,' SP Chief on seat-sharing Bandra Terminus stampede: 9 injured, Raut says railway responsible EAM Jaishankar explains why the world believes in ‘New India’ Israel releases ftg of strikes on Hezbollah's hideout in Lebanon ‘Do you want to kill me?’: Kejriwal accuses BJP for attack on him BJP slams Cong leader over 'Rejected Maal' remark on Sita Soren ‘I'm the anti-Soros…': Musk hosts Trump town hall Iran reveals retaliation plans for Israel's air attack Tel Aviv Terror Attack: Truck rams into bus stop near Mossad HQ 'Peace can be established in Bengal only when....': Amit Shah Maha polls: 'No place for sacrifice in politics,' SP Chief on seat-sharing Bandra Terminus stampede: 9 injured, Raut says railway responsible EAM Jaishankar explains why the world believes in ‘New India’ Israel releases ftg of strikes on Hezbollah's hideout in Lebanon ‘Do you want to kill me?’: Kejriwal accuses BJP for attack on him BJP slams Cong leader over 'Rejected Maal' remark on Sita Soren ‘I'm the anti-Soros…': Musk hosts Trump town hall Iran reveals retaliation plans for Israel's air attack Hot on Web In Case you missed it Top Searched Companies Top Calculators Top Definitions Top Commodities Top Slideshow Private Companies Top Prime Articles Top Story Listing Latest News Follow us on: Find this comment offensive? Choose your reason below and click on the Report button. This will alert our moderators to take action Reason for reporting: Your Reason has been Reported to the admin. Log In/Connect with: Will be displayed Will not be displayed Will be displayed Worry not. You’re just a step away. It seems like you're already an ETPrime member with Login using your ET Prime credentials to enjoy all member benefits Log out of your current logged-in account  and log in again using your ET Prime credentials  to enjoy all member benefits.  To read full story, subscribe to ET Prime ₹34 per week \n",
      "                    Billed annually at \n",
      "                    ₹2499 ₹1749 Super Saver Sale - Flat 30% Off On ET Prime Membership Offer Exclusively For You Save up to Rs. 700/- ON ET PRIME MEMBERSHIP Offer Exclusively For You Get 1 Year Free With 1 and 2-Year ET prime membership Offer Exclusively For You Get 1 Year Free With 1 and 2-Year ET prime membership Offer Exclusively For You Get Flat 40% Off Then  ₹ 1749 for 1 year Offer Exclusively For You ET Prime at ₹ 49 for 1 month Then  ₹ 1749 for 1 year Diwali Offer Get flat 20% off on ETPrime     90 Days Prime access worth Rs999 unlocked for you Exclusive Economic Times Stories, Editorials & Expert opinion across 20+ sectors Stock analysis. Market Research. Industry Trends on 4000+ Stocks ​Get 1 Year Complimentary Subscription of TOI+ worth Rs.799/-​ Stories you might be interested in\n",
      "\n",
      "Title: I will get elected by a good margin: Devendra Fadnavis\n",
      "Source: The Times of India\n",
      "Fetching full article content...\n",
      "Content: Office Productivity Advanced Excel Course - Financial Calculations & Excel Made Easy By - Anirudh Saraf, Founder- Saraf A & Associates, Chartered Accountant Web Development Java 21 Essentials for Beginners: Build Strong Programming Foundations By - Metla Sudha Sekhar, IT Specialist and Developer Web Development JavaScript Essentials: Unlock AI-Driven Insights with ChatGPT By - Metla Sudha Sekhar, IT Specialist and Developer Web Development A Comprehensive ASP.NET Core MVC 6 Project Guide for 2024 By - Metla Sudha Sekhar, IT Specialist and Developer Artificial Intelligence(AI) AI for Everyone: Understanding and Applying the Basics on Artificial Intelligence By - Ritesh Vajariya, Generative AI Expert Marketing Modern Marketing Masterclass by Seth Godin By - Seth Godin, Former dot com Business Executive and Best Selling Author Marketing Future of Marketing & Branding Masterclass By - Dr. David Aaker, Professor Emeritus at the Haas School of Business, UC Berkeley, Author | Speaker | Thought Leader | Branding Consultant Strategy ESG and Business Sustainability Strategy By - Vipul Arora, Partner, ESG & Climate Solutions at Sattva Consulting Author I Speaker I Thought Leader Finance A2Z Of Money By - elearnmarkets, Financial Education by StockEdge Finance Financial Literacy i.e Lets Crack the Billionaire Code By - CA Rahul Gupta, CA with 10+ years of experience and Accounting Educator Artificial Intelligence(AI) Master in Python Language Quickly Using the ChatGPT Open AI By - Metla Sudha Sekhar, IT Specialist and Developer Web Development Master RESTful APIs with Python and Django REST Framework: Web API Development By - Metla Sudha Sekhar, IT Specialist and Developer Web Development C++ Fundamentals for Absolute Beginners By - Metla Sudha Sekhar, IT Specialist and Developer Artificial Intelligence(AI) ChatGPT Mastery from Zero to Hero: The Complete AI Course By - Metla Sudha Sekhar, IT Specialist and Developer Artificial Intelligence(AI) AI-Powered Python Mastery with Tabnine: Boost Your Coding Skills By - Metla Sudha Sekhar, IT Specialist and Developer Web Development Mastering Full Stack Development: From Frontend to Backend Excellence By - Metla Sudha Sekhar, IT Specialist and Developer Artificial Intelligence(AI) Java Programming with ChatGPT: Learn using Generative AI By - Metla Sudha Sekhar, IT Specialist and Developer Office Productivity Mastering Google Sheets: Unleash the Power of Excel and Advance Analysis By - Metla Sudha Sekhar, IT Specialist and Developer Data Science SQL for Data Science along with Data Analytics and Data Visualization By - Metla Sudha Sekhar, IT Specialist and Developer Artificial Intelligence(AI) AI and Analytics based Business Strategy By - Tanusree De, Managing Director- Accenture Technology Lead, Trustworthy AI Center of Excellence: ATCI Mahayuti leaders in Delhi, Amit Shah spends three hours resolving issues MVA's unity should come before the people: Sanjay Raut after alliance announces seat sharing formula (Catch all the Business News, Breaking News, Budget 2024 Events and Latest News Updates on The Economic Times.) Subscribe to The Economic Times Prime and read the ET ePaper online. (Catch all the Business News, Breaking News, Budget 2024 Events and Latest News Updates on The Economic Times.) Subscribe to The Economic Times Prime and read the ET ePaper online.  Warehousing is attracting top dollar, but this one factor is hurting developers, investors 10 multicap funds that have returned nearly 50% in just a year The Achilles’ heel slowing Infosys, and Salil Parekh’s turnaround drive Why a China bull run can trigger a broader emerging markets rally Did Rankas get an easy exit from Modern Syntex dues despite personal guarantee? As Taleb sees ‘Black Swan’ for dollar, these 3 threats can shatter global economy Tel Aviv Terror Attack: Truck rams into bus stop near Mossad HQ 'Peace can be established in Bengal only when....': Amit Shah Maha polls: 'No place for sacrifice in politics,' SP Chief on seat-sharing Bandra Terminus stampede: 9 injured, Raut says railway responsible EAM Jaishankar explains why the world believes in ‘New India’ Israel releases ftg of strikes on Hezbollah's hideout in Lebanon ‘Do you want to kill me?’: Kejriwal accuses BJP for attack on him BJP slams Cong leader over 'Rejected Maal' remark on Sita Soren ‘I'm the anti-Soros…': Musk hosts Trump town hall Iran reveals retaliation plans for Israel's air attack Tel Aviv Terror Attack: Truck rams into bus stop near Mossad HQ 'Peace can be established in Bengal only when....': Amit Shah Maha polls: 'No place for sacrifice in politics,' SP Chief on seat-sharing Bandra Terminus stampede: 9 injured, Raut says railway responsible EAM Jaishankar explains why the world believes in ‘New India’ Israel releases ftg of strikes on Hezbollah's hideout in Lebanon ‘Do you want to kill me?’: Kejriwal accuses BJP for attack on him BJP slams Cong leader over 'Rejected Maal' remark on Sita Soren ‘I'm the anti-Soros…': Musk hosts Trump town hall Iran reveals retaliation plans for Israel's air attack Hot on Web In Case you missed it Top Searched Companies Top Calculators Top Prime Articles Top Commodities Top Slideshow Private Companies Top Story Listing Top Definitions Latest News Follow us on: Find this comment offensive? Choose your reason below and click on the Report button. This will alert our moderators to take action Reason for reporting: Your Reason has been Reported to the admin. Log In/Connect with: Will be displayed Will not be displayed Will be displayed Stories you might be interested in\n",
      "\n",
      "Title: Maharashtra distributes ₹2,399 crore subsidy to cotton and soybean farmers in phase 1\n",
      "Source: BusinessLine\n",
      "Fetching full article content...\n",
      "Content:  -452.97  -184.05 + 19.00  -232.00  -407.00  -452.97  -184.05  -184.05 + 19.00 + 19.00  -232.00 Get businessline apps on Connect with us TO ENJOY ADDITIONAL BENEFITS Connect With Us Get BusinessLine apps on By BL Pune Bureau \n",
      "                    Comments\n",
      "                     \n",
      "                            READ LATER\n",
      "                         The Maharashtra government has initiated the distribution of subsidies for cotton and soyabean producers for the 2023 kharif season.  The initiative was launched online during the State cabinet meeting by Chief Minister Eknath Shinde, along with Deputy Chief Ministers Devendra Fadnavis and Ajit Pawar. The government has announced a subsidy of ₹5,000 per hectare for cotton and soyabean farmers, with a limit of up to two hectares per farmer.  This move aims to provide much-needed financial relief to farmers grappling with rising input costs and unpredictable weather patterns. In the first phase, ₹2,398.93 crore are being deposited into the accounts of 49.5 lakh registered farmers. Maharashtra has approximately 96,787 cotton and soybean farmers. Of these, data for 68,06,923 farmers has been uploaded on the government’s portal, enabling the disbursement process. Under the Namo Shetkari Mahasamman Scheme, 41,50,696 accounts have completed 70 per cent Aadhaar verification, while 4,60,730 accounts are still undergoing Aadhaar verification. An additional 17,53,130 accounts have been updated with Aadhaar consent forms. With the first phase of financial assistance reaching 63.64 lakh accounts of 49.5 lakh farmers, the state government has allocated ₹2,398.93 crores to ensure timely relief. “This step is expected to provide a significant boost to cotton and soyabean farmers, helping them navigate through the challenges of the ongoing season” said Chief Minister Shinde. \n",
      "\t\tComments\n",
      "\t\t BACK TO TOP Comments have to be in English, and in full sentences. They cannot be abusive or personal. Please abide by our community guidelines   for posting your comments.  We have migrated to a new commenting platform. If you are already a registered user of TheHindu Businessline and logged in, you may continue to engage with our articles. If you do not have an account please register and login to post comments. Users can access their older comments by logging into their accounts on Vuukle. Terms & conditions  |  Institutional Subscriber\n",
      "\n",
      "Title: [Removed]\n",
      "Source: [Removed]\n",
      "Fetching full article content...\n",
      "Content: Coming soon.\n",
      "\n"
     ]
    }
   ],
   "source": [
    "from bs4 import BeautifulSoup\n",
    "import requests\n",
    "\n",
    "def fetch_article_content(url):\n",
    "    response = requests.get(url)\n",
    "    if response.status_code == 200:\n",
    "        soup = BeautifulSoup(response.content, 'html.parser')\n",
    "        # Example selector; adjust based on website structure\n",
    "        paragraphs = soup.find_all('p')\n",
    "        content = ' '.join([para.get_text() for para in paragraphs])\n",
    "        return content\n",
    "    else:\n",
    "        return \"Could not retrieve content.\"\n",
    "\n",
    "def fetch_news(query, language='en', page_size=5):\n",
    "    url = f'https://newsapi.org/v2/everything?q={query}&language={language}&pageSize={page_size}&apiKey={api_key}'\n",
    "    response = requests.get(url)\n",
    "    \n",
    "    if response.status_code == 200:\n",
    "        articles = response.json().get('articles', [])\n",
    "        for article in articles:\n",
    "            print(f\"Title: {article['title']}\")\n",
    "            print(f\"Source: {article['source']['name']}\")\n",
    "            print(\"Fetching full article content...\")\n",
    "            content = fetch_article_content(article['url'])\n",
    "            print(f\"Content: {content}\\n\")\n",
    "    else:\n",
    "        print(\"Error:\", response.status_code, response.json())\n",
    "\n",
    "# Example usage\n",
    "fetch_news(\"Devendra Fadnavis\")\n"
   ]
  },
  {
   "cell_type": "markdown",
   "id": "9f446435-b130-4f19-ab27-450ef3833751",
   "metadata": {},
   "source": [
    "# Date Param"
   ]
  },
  {
   "cell_type": "code",
   "execution_count": 16,
   "id": "1c583c95-1156-42e1-921d-d7f0feaf3fca",
   "metadata": {},
   "outputs": [
    {
     "name": "stdout",
     "output_type": "stream",
     "text": [
      "Title: Maharashtra election: Devendra Fadnavis files nomination from Nagpur West constituency\n",
      "Source: The Times of India\n",
      "Fetching full article content...\n",
      "Content: Office Productivity Advanced Excel Course - Financial Calculations & Excel Made Easy By - Anirudh Saraf, Founder- Saraf A & Associates, Chartered Accountant Web Development Java 21 Essentials for Beginners: Build Strong Programming Foundations By - Metla Sudha Sekhar, IT Specialist and Developer Web Development JavaScript Essentials: Unlock AI-Driven Insights with ChatGPT By - Metla Sudha Sekhar, IT Specialist and Developer Web Development A Comprehensive ASP.NET Core MVC 6 Project Guide for 2024 By - Metla Sudha Sekhar, IT Specialist and Developer Artificial Intelligence(AI) AI for Everyone: Understanding and Applying the Basics on Artificial Intelligence By - Ritesh Vajariya, Generative AI Expert Marketing Modern Marketing Masterclass by Seth Godin By - Seth Godin, Former dot com Business Executive and Best Selling Author Marketing Future of Marketing & Branding Masterclass By - Dr. David Aaker, Professor Emeritus at the Haas School of Business, UC Berkeley, Author | Speaker | Thought Leader | Branding Consultant Strategy ESG and Business Sustainability Strategy By - Vipul Arora, Partner, ESG & Climate Solutions at Sattva Consulting Author I Speaker I Thought Leader Finance A2Z Of Money By - elearnmarkets, Financial Education by StockEdge Finance Financial Literacy i.e Lets Crack the Billionaire Code By - CA Rahul Gupta, CA with 10+ years of experience and Accounting Educator Artificial Intelligence(AI) Master in Python Language Quickly Using the ChatGPT Open AI By - Metla Sudha Sekhar, IT Specialist and Developer Web Development Master RESTful APIs with Python and Django REST Framework: Web API Development By - Metla Sudha Sekhar, IT Specialist and Developer Web Development C++ Fundamentals for Absolute Beginners By - Metla Sudha Sekhar, IT Specialist and Developer Artificial Intelligence(AI) ChatGPT Mastery from Zero to Hero: The Complete AI Course By - Metla Sudha Sekhar, IT Specialist and Developer Artificial Intelligence(AI) AI-Powered Python Mastery with Tabnine: Boost Your Coding Skills By - Metla Sudha Sekhar, IT Specialist and Developer Web Development Mastering Full Stack Development: From Frontend to Backend Excellence By - Metla Sudha Sekhar, IT Specialist and Developer Artificial Intelligence(AI) Java Programming with ChatGPT: Learn using Generative AI By - Metla Sudha Sekhar, IT Specialist and Developer Office Productivity Mastering Google Sheets: Unleash the Power of Excel and Advance Analysis By - Metla Sudha Sekhar, IT Specialist and Developer Data Science SQL for Data Science along with Data Analytics and Data Visualization By - Metla Sudha Sekhar, IT Specialist and Developer Artificial Intelligence(AI) AI and Analytics based Business Strategy By - Tanusree De, Managing Director- Accenture Technology Lead, Trustworthy AI Center of Excellence: ATCI (Catch all the Business News, Breaking News, Budget 2024 Events and Latest News Updates on The Economic Times.) Subscribe to The Economic Times Prime and read the ET ePaper online. (Catch all the Business News, Breaking News, Budget 2024 Events and Latest News Updates on The Economic Times.) Subscribe to The Economic Times Prime and read the ET ePaper online.  Warehousing is attracting top dollar, but this one factor is hurting developers, investors 10 multicap funds that have returned nearly 50% in just a year The Achilles’ heel slowing Infosys, and Salil Parekh’s turnaround drive Why a China bull run can trigger a broader emerging markets rally Did Rankas get an easy exit from Modern Syntex dues despite personal guarantee? As Taleb sees ‘Black Swan’ for dollar, these 3 threats can shatter global economy Tel Aviv Terror Attack: Truck rams into bus stop near Mossad HQ 'Peace can be established in Bengal only when....': Amit Shah Maha polls: 'No place for sacrifice in politics,' SP Chief on seat-sharing Bandra Terminus stampede: 9 injured, Raut says railway responsible EAM Jaishankar explains why the world believes in ‘New India’ Israel releases ftg of strikes on Hezbollah's hideout in Lebanon ‘Do you want to kill me?’: Kejriwal accuses BJP for attack on him BJP slams Cong leader over 'Rejected Maal' remark on Sita Soren ‘I'm the anti-Soros…': Musk hosts Trump town hall Iran reveals retaliation plans for Israel's air attack Tel Aviv Terror Attack: Truck rams into bus stop near Mossad HQ 'Peace can be established in Bengal only when....': Amit Shah Maha polls: 'No place for sacrifice in politics,' SP Chief on seat-sharing Bandra Terminus stampede: 9 injured, Raut says railway responsible EAM Jaishankar explains why the world believes in ‘New India’ Israel releases ftg of strikes on Hezbollah's hideout in Lebanon ‘Do you want to kill me?’: Kejriwal accuses BJP for attack on him BJP slams Cong leader over 'Rejected Maal' remark on Sita Soren ‘I'm the anti-Soros…': Musk hosts Trump town hall Iran reveals retaliation plans for Israel's air attack Hot on Web In Case you missed it Top Searched Companies Top Calculators Top Definitions Top Commodities Top Slideshow Private Companies Top Prime Articles Top Story Listing Latest News Follow us on: Find this comment offensive? Choose your reason below and click on the Report button. This will alert our moderators to take action Reason for reporting: Your Reason has been Reported to the admin. Log In/Connect with: Will be displayed Will not be displayed Will be displayed Worry not. You’re just a step away. It seems like you're already an ETPrime member with Login using your ET Prime credentials to enjoy all member benefits Log out of your current logged-in account  and log in again using your ET Prime credentials  to enjoy all member benefits.  To read full story, subscribe to ET Prime ₹34 per week \n",
      "                    Billed annually at \n",
      "                    ₹2499 ₹1749 Super Saver Sale - Flat 30% Off On ET Prime Membership Offer Exclusively For You Save up to Rs. 700/- ON ET PRIME MEMBERSHIP Offer Exclusively For You Get 1 Year Free With 1 and 2-Year ET prime membership Offer Exclusively For You Get 1 Year Free With 1 and 2-Year ET prime membership Offer Exclusively For You Get Flat 40% Off Then  ₹ 1749 for 1 year Offer Exclusively For You ET Prime at ₹ 49 for 1 month Then  ₹ 1749 for 1 year Diwali Offer Get flat 20% off on ETPrime     90 Days Prime access worth Rs999 unlocked for you Exclusive Economic Times Stories, Editorials & Expert opinion across 20+ sectors Stock analysis. Market Research. Industry Trends on 4000+ Stocks ​Get 1 Year Complimentary Subscription of TOI+ worth Rs.799/-​ Stories you might be interested in\n",
      "\n",
      "Title: I will get elected by a good margin: Devendra Fadnavis\n",
      "Source: The Times of India\n",
      "Fetching full article content...\n",
      "Content: Office Productivity Advanced Excel Course - Financial Calculations & Excel Made Easy By - Anirudh Saraf, Founder- Saraf A & Associates, Chartered Accountant Web Development Java 21 Essentials for Beginners: Build Strong Programming Foundations By - Metla Sudha Sekhar, IT Specialist and Developer Web Development JavaScript Essentials: Unlock AI-Driven Insights with ChatGPT By - Metla Sudha Sekhar, IT Specialist and Developer Web Development A Comprehensive ASP.NET Core MVC 6 Project Guide for 2024 By - Metla Sudha Sekhar, IT Specialist and Developer Artificial Intelligence(AI) AI for Everyone: Understanding and Applying the Basics on Artificial Intelligence By - Ritesh Vajariya, Generative AI Expert Marketing Modern Marketing Masterclass by Seth Godin By - Seth Godin, Former dot com Business Executive and Best Selling Author Marketing Future of Marketing & Branding Masterclass By - Dr. David Aaker, Professor Emeritus at the Haas School of Business, UC Berkeley, Author | Speaker | Thought Leader | Branding Consultant Strategy ESG and Business Sustainability Strategy By - Vipul Arora, Partner, ESG & Climate Solutions at Sattva Consulting Author I Speaker I Thought Leader Finance A2Z Of Money By - elearnmarkets, Financial Education by StockEdge Finance Financial Literacy i.e Lets Crack the Billionaire Code By - CA Rahul Gupta, CA with 10+ years of experience and Accounting Educator Artificial Intelligence(AI) Master in Python Language Quickly Using the ChatGPT Open AI By - Metla Sudha Sekhar, IT Specialist and Developer Web Development Master RESTful APIs with Python and Django REST Framework: Web API Development By - Metla Sudha Sekhar, IT Specialist and Developer Web Development C++ Fundamentals for Absolute Beginners By - Metla Sudha Sekhar, IT Specialist and Developer Artificial Intelligence(AI) ChatGPT Mastery from Zero to Hero: The Complete AI Course By - Metla Sudha Sekhar, IT Specialist and Developer Artificial Intelligence(AI) AI-Powered Python Mastery with Tabnine: Boost Your Coding Skills By - Metla Sudha Sekhar, IT Specialist and Developer Web Development Mastering Full Stack Development: From Frontend to Backend Excellence By - Metla Sudha Sekhar, IT Specialist and Developer Artificial Intelligence(AI) Java Programming with ChatGPT: Learn using Generative AI By - Metla Sudha Sekhar, IT Specialist and Developer Office Productivity Mastering Google Sheets: Unleash the Power of Excel and Advance Analysis By - Metla Sudha Sekhar, IT Specialist and Developer Data Science SQL for Data Science along with Data Analytics and Data Visualization By - Metla Sudha Sekhar, IT Specialist and Developer Artificial Intelligence(AI) AI and Analytics based Business Strategy By - Tanusree De, Managing Director- Accenture Technology Lead, Trustworthy AI Center of Excellence: ATCI Mahayuti leaders in Delhi, Amit Shah spends three hours resolving issues MVA's unity should come before the people: Sanjay Raut after alliance announces seat sharing formula (Catch all the Business News, Breaking News, Budget 2024 Events and Latest News Updates on The Economic Times.) Subscribe to The Economic Times Prime and read the ET ePaper online. (Catch all the Business News, Breaking News, Budget 2024 Events and Latest News Updates on The Economic Times.) Subscribe to The Economic Times Prime and read the ET ePaper online.  Warehousing is attracting top dollar, but this one factor is hurting developers, investors 10 multicap funds that have returned nearly 50% in just a year The Achilles’ heel slowing Infosys, and Salil Parekh’s turnaround drive Why a China bull run can trigger a broader emerging markets rally Did Rankas get an easy exit from Modern Syntex dues despite personal guarantee? As Taleb sees ‘Black Swan’ for dollar, these 3 threats can shatter global economy Tel Aviv Terror Attack: Truck rams into bus stop near Mossad HQ 'Peace can be established in Bengal only when....': Amit Shah Maha polls: 'No place for sacrifice in politics,' SP Chief on seat-sharing Bandra Terminus stampede: 9 injured, Raut says railway responsible EAM Jaishankar explains why the world believes in ‘New India’ Israel releases ftg of strikes on Hezbollah's hideout in Lebanon ‘Do you want to kill me?’: Kejriwal accuses BJP for attack on him BJP slams Cong leader over 'Rejected Maal' remark on Sita Soren ‘I'm the anti-Soros…': Musk hosts Trump town hall Iran reveals retaliation plans for Israel's air attack Tel Aviv Terror Attack: Truck rams into bus stop near Mossad HQ 'Peace can be established in Bengal only when....': Amit Shah Maha polls: 'No place for sacrifice in politics,' SP Chief on seat-sharing Bandra Terminus stampede: 9 injured, Raut says railway responsible EAM Jaishankar explains why the world believes in ‘New India’ Israel releases ftg of strikes on Hezbollah's hideout in Lebanon ‘Do you want to kill me?’: Kejriwal accuses BJP for attack on him BJP slams Cong leader over 'Rejected Maal' remark on Sita Soren ‘I'm the anti-Soros…': Musk hosts Trump town hall Iran reveals retaliation plans for Israel's air attack Hot on Web In Case you missed it Top Searched Companies Top Calculators Top Prime Articles Top Commodities Top Slideshow Private Companies Top Story Listing Top Definitions Latest News Follow us on: Find this comment offensive? Choose your reason below and click on the Report button. This will alert our moderators to take action Reason for reporting: Your Reason has been Reported to the admin. Log In/Connect with: Will be displayed Will not be displayed Will be displayed Stories you might be interested in\n",
      "\n",
      "Title: D Fadnavis Declares Assets Worth Rs 13.27 Crore Ahead Of Maharashtra Polls\n",
      "Source: NDTV News\n",
      "Fetching full article content...\n",
      "Content: Devendra Fadnavis has taken loan of Rs 62,00,000 from his wife (File) Maharashtra Deputy Chief Minister Devendra Fadnavis on Friday declared movable and immovable assets worth Rs 13,27,47,728 in the affidavit filed along with his nomination papers from Nagpur South West seat for the November 20 assembly polls. As per his tax return forms, his total income stood at Rs 79,30,402 in 2023-24, while it was Rs 92,48,094 in 2022-23. Devendra Fadnavis declared movable assets of Rs 56,07,867 in his name, Rs 6,96,92,748 in his wife Amruta Fadnavis' name as well as Rs 10,22,113 in his daughter's name.  As per his poll affidavit, the senior BJP leader has Rs 23,500 cash in hand, while this figure is Rs 10,000 in the case of his wife. His deposits in bank accounts, including term deposits and deposits in financial institutions, NBFCs and cooperative societies, is Rs 2,28,760, while that of his wife stands at Rs 1,43,717. Devendra Fadnavis has not invested in bonds, debentures, shares and mutual funds but has invested Rs 20,70,607 in NSS, postal savings, insurance policies and financial instruments. His wife has invested Rs 5,62,59,031 in bonds, debentures, shares and mutual funds, as per the affidavit. Devendra Fadnavis has declared that he has 450 grams gold ornaments worth Rs 32,85,000, while this figure is Rs 65,70,000 (900 grams) for his wife. The Deputy CM has declared immovable assets of Rs 4,68,96,000 in his name, including agricultural land in Chandrapur, residential building in Dharampeth in Nagpur and several other properties and Rs 95,29,000 in the name of his wife. Devendra Fadnavis has taken loan of Rs 62,00,000 from his wife and has no other loans from banks or financial institutions or pending dues. He and his wife do not have any vehicle registered in their names. PromotedListen to the latest songs, only on JioSaavn.com The senior BJP leader has mentioned that he has four FIRs and four pending cases against his name.  (Except for the headline, this story has not been edited by NDTV staff and is published from a syndicated feed.) Track Latest News Live on NDTV.com and get news updates from India  and around the world.  Watch Live News: Follow Us: ................................ Advertisement ................................\n",
      "\n",
      "Title: Fadnavis files nomination from Nagpur South-West; says Mahayuti's work speaks for itself\n",
      "Source: The Times of India\n",
      "Fetching full article content...\n",
      "Content: Artificial Intelligence(AI) Generative AI for Dynamic Java Web Applications with ChatGPT By - Metla Sudha Sekhar, IT Specialist and Developer Web Development Intermediate Java Mastery: Method, Collections, and Beyond By - Metla Sudha Sekhar, IT Specialist and Developer Artificial Intelligence(AI) Java Programming with ChatGPT: Learn using Generative AI By - Metla Sudha Sekhar, IT Specialist and Developer Marketing Performance Marketing for eCommerce Brands By - Zafer Mukeri, Founder- Inara Marketers Web Development Mastering Full Stack Development: From Frontend to Backend Excellence By - Metla Sudha Sekhar, IT Specialist and Developer Marketing Modern Marketing Masterclass by Seth Godin By - Seth Godin, Former dot com Business Executive and Best Selling Author Office Productivity Zero to Hero in Microsoft Excel: Complete Excel guide 2024 By - Metla Sudha Sekhar, IT Specialist and Developer Office Productivity Mastering Google Sheets: Unleash the Power of Excel and Advance Analysis By - Metla Sudha Sekhar, IT Specialist and Developer Strategy ESG and Business Sustainability Strategy By - Vipul Arora, Partner, ESG & Climate Solutions at Sattva Consulting Author I Speaker I Thought Leader Web Development Java 21 Essentials for Beginners: Build Strong Programming Foundations By - Metla Sudha Sekhar, IT Specialist and Developer Office Productivity Advanced Excel Course - Financial Calculations & Excel Made Easy By - Anirudh Saraf, Founder- Saraf A & Associates, Chartered Accountant Web Development JavaScript Essentials: Unlock AI-Driven Insights with ChatGPT By - Metla Sudha Sekhar, IT Specialist and Developer Artificial Intelligence(AI) Basics of Generative AI: Unveiling Tomorrow's Innovations By - Metla Sudha Sekhar, IT Specialist and Developer Finance A2Z Of Money By - elearnmarkets, Financial Education by StockEdge Marketing Future of Marketing & Branding Masterclass By - Dr. David Aaker, Professor Emeritus at the Haas School of Business, UC Berkeley, Author | Speaker | Thought Leader | Branding Consultant Finance A2Z Of Finance: Finance Beginner Course By - elearnmarkets, Financial Education by StockEdge Artificial Intelligence(AI) AI for Everyone: Understanding and Applying the Basics on Artificial Intelligence By - Ritesh Vajariya, Generative AI Expert Artificial Intelligence(AI) Mastering C++ Fundamentals with Generative AI: A Hands-On By - Metla Sudha Sekhar, IT Specialist and Developer Astrology Vastu Shastra Course By - Sachenkumar Rai, Vastu Shashtri Finance AI and Generative AI for Finance By - Hariom Tatsat, Vice President- Quantitative Analytics at Barclays Office Productivity Mastering Microsoft Office: Word, Excel, PowerPoint, and 365 By - Metla Sudha Sekhar, IT Specialist and Developer Marketing Digital marketing - Wordpress Website Development By - Shraddha Somani, Digital Marketing Trainer, Consultant, Strategiest and Subject Matter expert (Catch all the Business News, Breaking News, Budget 2024 Events and Latest News Updates on The Economic Times.) Subscribe to The Economic Times Prime and read the ET ePaper online. (Catch all the Business News, Breaking News, Budget 2024 Events and Latest News Updates on The Economic Times.) Subscribe to The Economic Times Prime and read the ET ePaper online.  Maruti to Hyundai, an INR79,000 crore glut is choking dealers like never before Sam Altman to Elon Musk, why API is the secret sauce for every innovator October heat wears out the bulls. Will this bottom fan a new rally ahead? Understanding the Mukesh Ambani vs Elon Musk battle for satellite spectrum Banks are the most attractive Indian stocks. But why aren’t investors piling on? Three years after failing with metaverse, Mark Zuckerberg finally finds success Unprecedented Trump support at MSG rally Gujarat: Spanish PM to inaugurate Tata-Airbus C295 Vadodara plant 'Could save $2 trillion...': Elon Musk at Trump's MSG rally Amber Rose accuses Beyoncé of stealing her RNC speech Suspected terror attack Israel, truck rams into... Israel vs Iran: IDF releases shocking videos of jets Tel Aviv Terror Attack: Truck rams into bus stop near Mossad HQ 'Peace can be established in Bengal only when....': Amit Shah Maha polls: 'No place for sacrifice in politics,' SP Chief on seat-sharing Bandra Terminus stampede: 9 injured, Raut says railway responsible Unprecedented Trump support at MSG rally Gujarat: Spanish PM to inaugurate Tata-Airbus C295 Vadodara plant 'Could save $2 trillion...': Elon Musk at Trump's MSG rally Amber Rose accuses Beyoncé of stealing her RNC speech Suspected terror attack Israel, truck rams into... Israel vs Iran: IDF releases shocking videos of jets Tel Aviv Terror Attack: Truck rams into bus stop near Mossad HQ 'Peace can be established in Bengal only when....': Amit Shah Maha polls: 'No place for sacrifice in politics,' SP Chief on seat-sharing Bandra Terminus stampede: 9 injured, Raut says railway responsible Hot on Web In Case you missed it Top Searched Companies Top Calculators Top Prime Articles Top Slideshow Top Commodities Private Companies Top Story Listing Top Definitions Most Searched IFSC Codes Latest News Follow us on: Find this comment offensive? Choose your reason below and click on the Report button. This will alert our moderators to take action Reason for reporting: Your Reason has been Reported to the admin. Log In/Connect with: Will be displayed Will not be displayed Will be displayed Stories you might be interested in\n",
      "\n",
      "Title: No car, over 1 kg gold and a few properties: Maharashtra Dy CM Fadnavis declares movable, immovable assets\n",
      "Source: The Times of India\n",
      "Fetching full article content...\n",
      "Content: Leadership Business Storytelling Masterclass By - Ameen Haque, Founder of Storywallahs Astrology Vastu Shastra Course By - Sachenkumar Rai, Vastu Shashtri Web Development Advanced C++ Mastery: OOPs and Template Techniques By - Metla Sudha Sekhar, IT Specialist and Developer Marketing Digital marketing - Wordpress Website Development By - Shraddha Somani, Digital Marketing Trainer, Consultant, Strategiest and Subject Matter expert Data Science SQL Server Bootcamp 2024: Transform from Beginner to Pro By - Metla Sudha Sekhar, IT Specialist and Developer Artificial Intelligence(AI) Java Programming with ChatGPT: Learn using Generative AI By - Metla Sudha Sekhar, IT Specialist and Developer Web Development A Comprehensive ASP.NET Core MVC 6 Project Guide for 2024 By - Metla Sudha Sekhar, IT Specialist and Developer Web Development Advanced Java Mastery: Object-Oriented Programming Techniques By - Metla Sudha Sekhar, IT Specialist and Developer Office Productivity Advanced Excel Course - Financial Calculations & Excel Made Easy By - Anirudh Saraf, Founder- Saraf A & Associates, Chartered Accountant Artificial Intelligence(AI) Master in Python Language Quickly Using the ChatGPT Open AI By - Metla Sudha Sekhar, IT Specialist and Developer Web Development Django & PostgreSQL Mastery: Build Professional Web Applications By - Metla Sudha Sekhar, IT Specialist and Developer Marketing Digital Marketing Masterclass by Neil Patel By - Neil Patel, Co-Founder and Author at Neil Patel Digital Digital Marketing Guru Finance Financial Literacy i.e Lets Crack the Billionaire Code By - CA Rahul Gupta, CA with 10+ years of experience and Accounting Educator Marketing Performance Marketing for eCommerce Brands By - Zafer Mukeri, Founder- Inara Marketers Artificial Intelligence(AI) AI and Analytics based Business Strategy By - Tanusree De, Managing Director- Accenture Technology Lead, Trustworthy AI Center of Excellence: ATCI Office Productivity Mastering Microsoft Office: Word, Excel, PowerPoint, and 365 By - Metla Sudha Sekhar, IT Specialist and Developer Web Development Master RESTful APIs with Python and Django REST Framework: Web API Development By - Metla Sudha Sekhar, IT Specialist and Developer Finance A2Z Of Money By - elearnmarkets, Financial Education by StockEdge Artificial Intelligence(AI) Basics of Generative AI: Unveiling Tomorrow's Innovations By - Metla Sudha Sekhar, IT Specialist and Developer HR Human Potential and the Future of Employment By - Lynda Gratton, Prof. at London Business School, Speaker, Author, Global Thought Leader (Catch all the Business News, Breaking News, Budget 2024 Events and Latest News Updates on The Economic Times.) Subscribe to The Economic Times Prime and read the ET ePaper online. (Catch all the Business News, Breaking News, Budget 2024 Events and Latest News Updates on The Economic Times.) Subscribe to The Economic Times Prime and read the ET ePaper online.  Warehousing is attracting top dollar, but this one factor is hurting developers, investors 10 multicap funds that have returned nearly 50% in just a year The Achilles’ heel slowing Infosys, and Salil Parekh’s turnaround drive Why a China bull run can trigger a broader emerging markets rally Did Rankas get an easy exit from Modern Syntex dues despite personal guarantee? As Taleb sees ‘Black Swan’ for dollar, these 3 threats can shatter global economy Tel Aviv Terror Attack: Truck rams into bus stop near Mossad HQ 'Peace can be established in Bengal only when....': Amit Shah Maha polls: 'No place for sacrifice in politics,' SP Chief on seat-sharing Bandra Terminus stampede: 9 injured, Raut says railway responsible EAM Jaishankar explains why the world believes in ‘New India’ Israel releases ftg of strikes on Hezbollah's hideout in Lebanon ‘Do you want to kill me?’: Kejriwal accuses BJP for attack on him BJP slams Cong leader over 'Rejected Maal' remark on Sita Soren ‘I'm the anti-Soros…': Musk hosts Trump town hall Iran reveals retaliation plans for Israel's air attack Tel Aviv Terror Attack: Truck rams into bus stop near Mossad HQ 'Peace can be established in Bengal only when....': Amit Shah Maha polls: 'No place for sacrifice in politics,' SP Chief on seat-sharing Bandra Terminus stampede: 9 injured, Raut says railway responsible EAM Jaishankar explains why the world believes in ‘New India’ Israel releases ftg of strikes on Hezbollah's hideout in Lebanon ‘Do you want to kill me?’: Kejriwal accuses BJP for attack on him BJP slams Cong leader over 'Rejected Maal' remark on Sita Soren ‘I'm the anti-Soros…': Musk hosts Trump town hall Iran reveals retaliation plans for Israel's air attack Hot on Web In Case you missed it Top Searched Companies Top Calculators Top Commodities Top Story Listing Top Prime Articles Top Definitions Top Slideshow Private Companies Latest News Follow us on: Find this comment offensive? Choose your reason below and click on the Report button. This will alert our moderators to take action Reason for reporting: Your Reason has been Reported to the admin. Log In/Connect with: Will be displayed Will not be displayed Will be displayed Worry not. You’re just a step away. It seems like you're already an ETPrime member with Login using your ET Prime credentials to enjoy all member benefits Log out of your current logged-in account  and log in again using your ET Prime credentials  to enjoy all member benefits.  To read full story, subscribe to ET Prime ₹34 per week \n",
      "                    Billed annually at \n",
      "                    ₹2499 ₹1749 Super Saver Sale - Flat 30% Off On ET Prime Membership Offer Exclusively For You Save up to Rs. 700/- ON ET PRIME MEMBERSHIP Offer Exclusively For You Get 1 Year Free With 1 and 2-Year ET prime membership Offer Exclusively For You Get 1 Year Free With 1 and 2-Year ET prime membership Offer Exclusively For You Get Flat 40% Off Then  ₹ 1749 for 1 year Offer Exclusively For You ET Prime at ₹ 49 for 1 month Then  ₹ 1749 for 1 year Diwali Offer Get flat 20% off on ETPrime     90 Days Prime access worth Rs999 unlocked for you Exclusive Economic Times Stories, Editorials & Expert opinion across 20+ sectors Stock analysis. Market Research. Industry Trends on 4000+ Stocks ​Get 1 Year Complimentary Subscription of TOI+ worth Rs.799/-​ Stories you might be interested in\n",
      "\n"
     ]
    }
   ],
   "source": [
    "from bs4 import BeautifulSoup\n",
    "import requests\n",
    "\n",
    "# Replace 'your_api_key' with your actual News API key\n",
    "api_key = \"837151a183aa489284076be8dd1445bd\"\n",
    "\n",
    "def fetch_article_content(url):\n",
    "    response = requests.get(url)\n",
    "    if response.status_code == 200:\n",
    "        soup = BeautifulSoup(response.content, 'html.parser')\n",
    "        paragraphs = soup.find_all('p')\n",
    "        content = ' '.join([para.get_text() for para in paragraphs])\n",
    "        return content\n",
    "    else:\n",
    "        return \"Could not retrieve content.\"\n",
    "\n",
    "def fetch_news(query, from_date=None, to_date=None, language='en', page_size=5):\n",
    "    # Base URL\n",
    "    url = f'https://newsapi.org/v2/everything?q={query}&language={language}&pageSize={page_size}&apiKey={api_key}'\n",
    "    \n",
    "    # Add date filters if provided\n",
    "    if from_date:\n",
    "        url += f'&from={from_date}'\n",
    "    if to_date:\n",
    "        url += f'&to={to_date}'\n",
    "    \n",
    "    response = requests.get(url)\n",
    "    \n",
    "    if response.status_code == 200:\n",
    "        articles = response.json().get('articles', [])\n",
    "        for article in articles:\n",
    "            print(f\"Title: {article['title']}\")\n",
    "            print(f\"Source: {article['source']['name']}\")\n",
    "            print(\"Fetching full article content...\")\n",
    "            content = fetch_article_content(article['url'])\n",
    "            print(f\"Content: {content}\\n\")\n",
    "    else:\n",
    "        print(\"Error:\", response.status_code, response.json())\n",
    "\n",
    "# Example usage with date range\n",
    "fetch_news(query=\"Devendra Fadnavis\", from_date=\"2024-10-25\", to_date=\"2024-10-26\")\n"
   ]
  },
  {
   "cell_type": "code",
   "execution_count": null,
   "id": "182ad6a8-ca59-400d-be47-2b3d0f2b6ba2",
   "metadata": {},
   "outputs": [],
   "source": []
  }
 ],
 "metadata": {
  "kernelspec": {
   "display_name": "Python 3 (ipykernel)",
   "language": "python",
   "name": "python3"
  },
  "language_info": {
   "codemirror_mode": {
    "name": "ipython",
    "version": 3
   },
   "file_extension": ".py",
   "mimetype": "text/x-python",
   "name": "python",
   "nbconvert_exporter": "python",
   "pygments_lexer": "ipython3",
   "version": "3.12.3"
  }
 },
 "nbformat": 4,
 "nbformat_minor": 5
}
